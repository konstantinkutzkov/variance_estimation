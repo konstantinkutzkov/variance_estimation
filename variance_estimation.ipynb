{
 "cells": [
  {
   "cell_type": "code",
   "execution_count": 1,
   "id": "e23e2aad",
   "metadata": {},
   "outputs": [],
   "source": [
    "import numpy as np\n",
    "\n",
    "# Install HyperLogLog from https://github.com/svpcom/hyperloglog\n",
    "import hyperloglog"
   ]
  },
  {
   "cell_type": "code",
   "execution_count": 2,
   "id": "5a5c8612",
   "metadata": {},
   "outputs": [],
   "source": [
    "# generate n key, value pairs where keys are integers in the range [0,r) and values are floats in [0,1) \n",
    "def generator(nr, r):\n",
    "    for i in range(nr):\n",
    "        np.random.seed(i) # the seed for reproducibility\n",
    "        yield (np.random.randint(0, r), np.random.random())"
   ]
  },
  {
   "cell_type": "code",
   "execution_count": 3,
   "id": "5e97ab5f",
   "metadata": {},
   "outputs": [],
   "source": [
    "gen = generator(10, 20)"
   ]
  },
  {
   "cell_type": "code",
   "execution_count": 4,
   "id": "e32d3c3e",
   "metadata": {},
   "outputs": [
    {
     "name": "stdout",
     "output_type": "stream",
     "text": [
      "12 0.5928446182250183\n",
      "5 0.9971848109388686\n",
      "8 0.18508207817320688\n",
      "10 0.07072488001099086\n",
      "14 0.5472322491757223\n",
      "3 0.055180123975368534\n",
      "10 0.9474760765729829\n",
      "15 0.22733907982646517\n",
      "3 0.01111444062397371\n",
      "1 0.21855867562607822\n"
     ]
    }
   ],
   "source": [
    "for idx, val in gen:\n",
    "    print(idx, val)"
   ]
  },
  {
   "cell_type": "code",
   "execution_count": 5,
   "id": "d91e7831",
   "metadata": {},
   "outputs": [],
   "source": [
    "# compute the variance exactly by storing the values in a hash table\n",
    "def compute_exact(gen):\n",
    "    X = {}\n",
    "    for idx, val in gen:\n",
    "        X.setdefault(idx, 0)\n",
    "        X[idx] += val \n",
    "    if len(X)< 10:\n",
    "        print(X)\n",
    "    s = 0\n",
    "    s2 = 0\n",
    "    for idx, val in X.items():\n",
    "        s += val\n",
    "        s2 += val**2\n",
    "    mean = s/len(X)\n",
    "    print(\"len X\", len(X))\n",
    "    print(s2)\n",
    "    return s2/len(X) - mean**2"
   ]
  },
  {
   "cell_type": "code",
   "execution_count": 6,
   "id": "c81e2382",
   "metadata": {},
   "outputs": [
    {
     "name": "stdout",
     "output_type": "stream",
     "text": [
      "{4: 1.8746380026138718, 3: 0.7866190580415003, 0: 0.18508207817320688, 2: 1.918822412098645}\n",
      "len X 4\n",
      "7.8491720081512\n"
     ]
    }
   ],
   "source": [
    "gen = generator(10, 5)\n",
    "var = compute_exact(gen)"
   ]
  },
  {
   "cell_type": "code",
   "execution_count": 7,
   "id": "418a8bf2",
   "metadata": {},
   "outputs": [
    {
     "data": {
      "text/plain": [
       "(0.5431202141356029, 0.5431202141356031)"
      ]
     },
     "execution_count": 7,
     "metadata": {},
     "output_type": "execute_result"
    }
   ],
   "source": [
    "# a small test comparing to numpy.std\n",
    "var, np.std([1.8746380026138718, 0.7866190580415003, 0.18508207817320688, 1.918822412098645])**2"
   ]
  },
  {
   "cell_type": "code",
   "execution_count": 8,
   "id": "ec4d4fb3",
   "metadata": {},
   "outputs": [],
   "source": [
    "# estimate the variance using count sketch\n",
    "def estimate_variance(gen, cs_size, nr_sketches):\n",
    "    \"\"\"\n",
    "    :param: gen: the number generator simulating a stream of updates (i, w_i)\n",
    "    :param: cs_size: how many elements to keep in the count-sketch\n",
    "    :param: nr_sketches: the median of how many estimates by count-sketches to compute\n",
    "    \"\"\"\n",
    "    count_sketches = [[0 for _ in range(cs_size)] for _ in range(nr_sketches)] \n",
    "    # use a hyperloglog counter with 1% error to estimate the number of unique numbers\n",
    "    hll = hyperloglog.HyperLogLog(0.01)     \n",
    "    s = 0 \n",
    "    for idx, val in gen:\n",
    "        s += val\n",
    "        hll.add(idx)\n",
    "        for i in range(len(count_sketches)):\n",
    "            count_sketch = count_sketches[i]\n",
    "            np.random.seed(17*(i+1)*idx + 23)\n",
    "            b = np.random.randint(0, cs_size)\n",
    "            np.random.seed(43*(i+1)*idx+61)\n",
    "            sign = 2*np.random.randint(0, 2)-1\n",
    "            count_sketch[b] += sign*val\n",
    "    s2_est = []\n",
    "    for count_sketch in count_sketches:\n",
    "        s2_est.append(np.dot(np.array(count_sketch), np.array(count_sketch)))\n",
    "    s2 = np.median(s2_est)\n",
    "    print(s2_est)\n",
    "    print(s2)\n",
    "    print(\"len hll\", len(hll))\n",
    "    mean = s/len(hll)\n",
    "    return s2/len(hll) - mean**2\n",
    "    "
   ]
  },
  {
   "cell_type": "code",
   "execution_count": 9,
   "id": "35fd6c55",
   "metadata": {},
   "outputs": [
    {
     "name": "stdout",
     "output_type": "stream",
     "text": [
      "[7.849172008151199, 10.86793656485911, 4.899920048581352]\n",
      "7.849172008151199\n",
      "len hll 4\n",
      "Estimated varuance 0.5431202141356033\n"
     ]
    }
   ],
   "source": [
    "gen = generator(10, 5)\n",
    "var = estimate_variance(gen, 10, 3)\n",
    "print(\"Estimated varuance\", var)"
   ]
  },
  {
   "cell_type": "code",
   "execution_count": 10,
   "id": "3754ad35",
   "metadata": {},
   "outputs": [
    {
     "name": "stdout",
     "output_type": "stream",
     "text": [
      "len X 99997\n",
      "2830748.2297524586\n",
      "Exact variance 3.327018689526625\n"
     ]
    }
   ],
   "source": [
    "gen = generator(1000000, 100000)\n",
    "var_exact = compute_exact(gen)\n",
    "print(\"Exact variance\", var_exact)"
   ]
  },
  {
   "cell_type": "code",
   "execution_count": 12,
   "id": "9c0c06ea",
   "metadata": {},
   "outputs": [
    {
     "name": "stdout",
     "output_type": "stream",
     "text": [
      "[2857406.111330656, 2816147.092049377, 2714930.0952371154]\n",
      "2816147.092049377\n",
      "len hll 101422\n",
      "Estimated variance 3.4823702605938784\n"
     ]
    }
   ],
   "source": [
    "gen = generator(1000000, 100000)\n",
    "var_est = estimate_variance(gen, 5000, 3)\n",
    "print(\"Estimated variance\", var_est)"
   ]
  },
  {
   "cell_type": "code",
   "execution_count": null,
   "id": "ceb0df6f",
   "metadata": {},
   "outputs": [],
   "source": []
  },
  {
   "cell_type": "code",
   "execution_count": null,
   "id": "42e50790",
   "metadata": {},
   "outputs": [],
   "source": []
  },
  {
   "cell_type": "code",
   "execution_count": null,
   "id": "efe935a2",
   "metadata": {},
   "outputs": [],
   "source": []
  }
 ],
 "metadata": {
  "kernelspec": {
   "display_name": "Python 3",
   "language": "python",
   "name": "python3"
  },
  "language_info": {
   "codemirror_mode": {
    "name": "ipython",
    "version": 3
   },
   "file_extension": ".py",
   "mimetype": "text/x-python",
   "name": "python",
   "nbconvert_exporter": "python",
   "pygments_lexer": "ipython3",
   "version": "3.8.10"
  }
 },
 "nbformat": 4,
 "nbformat_minor": 5
}
